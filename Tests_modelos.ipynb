{
 "cells": [
  {
   "cell_type": "markdown",
   "metadata": {},
   "source": [
    "# Import Required Libraries\n",
    "Import necessary libraries such as TensorFlow, NumPy, and Matplotlib."
   ]
  },
  {
   "cell_type": "code",
   "execution_count": 17,
   "metadata": {},
   "outputs": [],
   "source": [
    "import tensorflow as tf\n",
    "import numpy as np\n",
    "import matplotlib.pyplot as plt\n",
    "import pandas as pd\n",
    "from sklearn.model_selection import train_test_split"
   ]
  },
  {
   "cell_type": "markdown",
   "metadata": {},
   "source": [
    "# Load Models\n",
    "Load the quantized models 'bestmodel_quantized.tflite' and 'my_model_quantized.tflite' and the unquantized models 'my_model.keras' and 'bestmodel.keras'."
   ]
  },
  {
   "cell_type": "code",
   "execution_count": 5,
   "metadata": {},
   "outputs": [
    {
     "name": "stdout",
     "output_type": "stream",
     "text": [
      "WARNING:tensorflow:From c:\\Python311\\Lib\\site-packages\\keras\\src\\optimizers\\__init__.py:309: The name tf.train.Optimizer is deprecated. Please use tf.compat.v1.train.Optimizer instead.\n",
      "\n"
     ]
    }
   ],
   "source": [
    "# Load the unquantized models\n",
    "my_model = tf.keras.models.load_model('./kaggle/working/my_model.keras')\n",
    "bestmodel = tf.keras.models.load_model('./kaggle/working/bestmodel.keras')\n",
    "\n",
    "# Load the quantized models\n",
    "interpreter_my_model_quantized = tf.lite.Interpreter(model_path='./kaggle/working/my_model_quantized.tflite')\n",
    "interpreter_bestmodel_quantized = tf.lite.Interpreter(model_path='./kaggle/working/bestmodel_quantized.tflite')\n",
    "\n",
    "# Allocate tensors for the quantized models\n",
    "interpreter_my_model_quantized.allocate_tensors()\n",
    "interpreter_bestmodel_quantized.allocate_tensors()\n",
    "\n",
    "# Get input and output details for the quantized models\n",
    "input_details_my_model_quantized = interpreter_my_model_quantized.get_input_details()\n",
    "output_details_my_model_quantized = interpreter_my_model_quantized.get_output_details()\n",
    "\n",
    "input_details_bestmodel_quantized = interpreter_bestmodel_quantized.get_input_details()\n",
    "output_details_bestmodel_quantized = interpreter_bestmodel_quantized.get_output_details()"
   ]
  },
  {
   "cell_type": "markdown",
   "metadata": {},
   "source": [
    "# Evaluate Unquantized Models\n",
    "Evaluate the performance of the unquantized models on the test dataset and calculate metrics such as accuracy, precision, recall, and AUC."
   ]
  },
  {
   "cell_type": "code",
   "execution_count": 11,
   "metadata": {},
   "outputs": [],
   "source": [
    "img_width_bestmodel = 256\n",
    "img_height_bestmodel = 256\n",
    "img_width_my_model = 224\n",
    "img_height_my_model = 224"
   ]
  },
  {
   "cell_type": "code",
   "execution_count": 12,
   "metadata": {},
   "outputs": [
    {
     "name": "stdout",
     "output_type": "stream",
     "text": [
      "Found 30909 files belonging to 6 classes.\n",
      "Found 3928 files belonging to 6 classes.\n",
      "Found 3923 files belonging to 6 classes.\n"
     ]
    }
   ],
   "source": [
    "from tensorflow.keras.preprocessing import image_dataset_from_directory\n",
    "\n",
    "train_dir_bestmodel = \"./kaggle/input/skin-diseases/kaggle/train\"\n",
    "test_dir_bestmodel =  \"./kaggle/input/skin-diseases/kaggle/test\"\n",
    "val_dir_bestmodel = \"./kaggle/input/skin-diseases/kaggle/val\"\n",
    "\n",
    "train_data_bestmodel = image_dataset_from_directory(train_dir,label_mode = \"categorical\", image_size = (img_height, img_width), batch_size = 16, shuffle = True, seed = 42)\n",
    "test_data_bestmodel = image_dataset_from_directory(test_dir,label_mode = \"categorical\", image_size = (img_height, img_width), batch_size = 16, shuffle = True, seed = 42)\n",
    "val_data_bestmodel = image_dataset_from_directory(val_dir,label_mode = \"categorical\", image_size = (img_height, img_width), batch_size = 16, shuffle = True, seed = 42)"
   ]
  },
  {
   "cell_type": "code",
   "execution_count": 20,
   "metadata": {},
   "outputs": [
    {
     "data": {
      "image/png": "[encoded data removed]",
      "text/plain": [
       "<Figure size 640x480 with 1 Axes>"
      ]
     },
     "metadata": {},
     "output_type": "display_data"
    }
   ],
   "source": [
    "# Load Dataset\n",
    "BASE_PATH = \"./kaggle\"\n",
    "metadata = pd.read_csv(f'{BASE_PATH}/ISIC_2019_Training_Metadata.csv')\n",
    "ground_truth = pd.read_csv(f'{BASE_PATH}/ISIC_2019_Training_GroundTruth.csv')\n",
    "# Concatenate the two DataFrames based on the 'image' column\n",
    "merge_df = pd.merge(ground_truth, metadata, on='image').drop('lesion_id', axis=1)\n",
    "merge_df['target'] = merge_df[['MEL', 'BCC', 'AK', 'SCC']].sum(axis=1) # 1 for Malignant\n",
    "diagnosis_map = {0: 'benign', 1: 'malignant'}\n",
    "merge_df['diagnosis'] = merge_df['target'].map(diagnosis_map)\n",
    "df = merge_df.loc[:, ['image', 'target', 'diagnosis']]\n",
    "df['images'] = f'{BASE_PATH}/input/ISIC-2019/' + df['image'] + '.jpg'\n",
    "# data['anatom_site_general'] = data['anatom_site_general'].replace(['lateral torso', 'anterior torso', 'posterior torso'], 'torso')\n",
    "df.head()\n",
    "# @title diagnosis\n",
    "\n",
    "import seaborn as sns\n",
    "df.groupby('diagnosis').size().plot(kind='barh', color=sns.palettes.mpl_palette('Dark2'))\n",
    "plt.gca().spines[['top', 'right',]].set_visible(False)\n",
    "# Split the dataset into features and target\n",
    "X = df[[\"images\"]]\n",
    "y = df[\"target\"]\n",
    "\n",
    "# Convert target values to float32\n",
    "y = y.astype('float32')\n",
    "\n",
    "# Split the dataset into train and test sets\n",
    "X_train, X_test, y_train, y_test = train_test_split(X, y, test_size=0.4, random_state=42, stratify=y)\n",
    "X, y = X_test, y_test\n",
    "X_validation, X_test, y_validation, y_test = train_test_split(X, y, test_size=0.5, random_state=42, stratify=y)\n",
    "\n",
    "# Create a TensorFlow dataset from the preprocessed data\n",
    "def load_and_preprocess_image(image_path):\n",
    "    # Read and preprocess image\n",
    "    image = tf.io.read_file(image_path)\n",
    "    image = tf.image.decode_jpeg(image, channels=3)\n",
    "    image = tf.image.resize(image, (224, 224))  # adjust size as needed\n",
    "    return image\n",
    "\n",
    "def create_tf_dataset(X, y, batch_size=32, shuffle=True,repeat =True):\n",
    "    image_paths = X['images'].tolist()\n",
    "    X.drop('images',axis=1,inplace=True)\n",
    "    dataset = tf.data.Dataset.from_tensor_slices((image_paths, y))\n",
    "\n",
    "    if shuffle:\n",
    "        dataset = dataset.shuffle(buffer_size=len(X))\n",
    "\n",
    "    # Read and preprocess images, include them in the batch\n",
    "    def load_image(image_path, label):\n",
    "        image = load_and_preprocess_image(image_path)\n",
    "        return image, label\n",
    "\n",
    "    dataset = dataset.map(load_image, num_parallel_calls=tf.data.experimental.AUTOTUNE)\n",
    "    dataset = dataset.batch(batch_size)\n",
    "    return dataset\n",
    "\n",
    "batch_size = 96\n",
    "train_dataset_my_model = create_tf_dataset(X_train, y_train, batch_size=batch_size)\n",
    "validation_dataset_my_model = create_tf_dataset(X_validation, y_validation, batch_size=batch_size, shuffle=False)\n",
    "test_dataset_my_model = create_tf_dataset(X_test, y_test, batch_size=batch_size, shuffle=False)"
   ]
  },
  {
   "cell_type": "code",
   "execution_count": 57,
   "metadata": {},
   "outputs": [
    {
     "name": "stdout",
     "output_type": "stream",
     "text": [
      "3/3 [==============================] - 1s 395ms/step\n",
      "my_model - Accuracy: 0.6041666666666666, Precision: 0.3650173611111111, Recall: 0.6041666666666666, AUC: 0.9351179673321234\n"
     ]
    },
    {
     "name": "stderr",
     "output_type": "stream",
     "text": [
      "C:\\Users\\muivu\\AppData\\Roaming\\Python\\Python311\\site-packages\\sklearn\\metrics\\_classification.py:1469: UndefinedMetricWarning: Precision is ill-defined and being set to 0.0 in labels with no predicted samples. Use `zero_division` parameter to control this behavior.\n",
      "  _warn_prf(average, modifier, msg_start, len(result))\n"
     ]
    }
   ],
   "source": [
    "from sklearn.metrics import accuracy_score, precision_score, recall_score, roc_auc_score\n",
    "import numpy as np\n",
    "\n",
    "# Evaluate my_model\n",
    "test_images_my_model, test_labels_my_model = next(iter(test_dataset_my_model))\n",
    "my_model_predictions = my_model.predict(test_images_my_model)\n",
    "my_model_pred_classes = np.argmax(my_model_predictions, axis=1)\n",
    "\n",
    "my_model_accuracy = accuracy_score(test_labels_my_model, my_model_pred_classes)\n",
    "my_model_precision = precision_score(test_labels_my_model, my_model_pred_classes, average='weighted')\n",
    "my_model_recall = recall_score(test_labels_my_model, my_model_pred_classes, average='weighted')\n",
    "my_model_auc = roc_auc_score(test_labels_my_model, my_model_predictions, multi_class='ovr')\n",
    "\n",
    "print(f\"my_model - Accuracy: {my_model_accuracy}, Precision: {my_model_precision}, Recall: {my_model_recall}, AUC: {my_model_auc}\")"
   ]
  },
  {
   "cell_type": "markdown",
   "metadata": {},
   "source": [
    "# Evaluate Quantized Models\n",
    "Evaluate the performance of the quantized models on the test dataset and calculate metrics such as accuracy, precision, recall, and AUC."
   ]
  },
  {
   "cell_type": "code",
   "execution_count": 58,
   "metadata": {},
   "outputs": [
    {
     "name": "stdout",
     "output_type": "stream",
     "text": [
      "my_model_quantized - Accuracy: 0.6041666666666666, Precision: 0.3650173611111111, Recall: 0.6041666666666666, AUC: 0.9351179673321234\n"
     ]
    },
    {
     "name": "stderr",
     "output_type": "stream",
     "text": [
      "C:\\Users\\muivu\\AppData\\Roaming\\Python\\Python311\\site-packages\\sklearn\\metrics\\_classification.py:1469: UndefinedMetricWarning: Precision is ill-defined and being set to 0.0 in labels with no predicted samples. Use `zero_division` parameter to control this behavior.\n",
      "  _warn_prf(average, modifier, msg_start, len(result))\n"
     ]
    }
   ],
   "source": [
    "from sklearn.metrics import accuracy_score, precision_score, recall_score, roc_auc_score\n",
    "import numpy as np\n",
    "\n",
    "# Function to run inference on quantized models\n",
    "def run_quantized_inference(interpreter, input_details, output_details, test_images):\n",
    "    predictions = []\n",
    "    for img in test_images:\n",
    "        img = np.expand_dims(img, axis=0).astype(np.float32)\n",
    "        interpreter.set_tensor(input_details[0]['index'], img)\n",
    "        interpreter.invoke()\n",
    "        output_data = interpreter.get_tensor(output_details[0]['index'])\n",
    "        predictions.append(output_data)\n",
    "    return np.array(predictions)\n",
    "\n",
    "# Evaluate my_model\n",
    "test_images_my_model_quantized, test_labels_my_model_quantized = next(iter(test_dataset_my_model))\n",
    "my_model_predictions_quantized = run_quantized_inference(interpreter_my_model_quantized, input_details_my_model_quantized, output_details_my_model_quantized, test_images_my_model_quantized)\n",
    "my_model_pred_classes = np.argmax(my_model_predictions_quantized, axis=1)\n",
    "\n",
    "# Check if test_labels_my_model_quantized is one-hot encoded\n",
    "if len(test_labels_my_model_quantized.shape) > 1 and test_labels_my_model_quantized.shape[1] > 1:\n",
    "    # Convert one-hot encoded labels to single label format\n",
    "    test_labels_my_model_single_quantized = np.argmax(test_labels_my_model_quantized, axis=1)\n",
    "else:\n",
    "    test_labels_my_model_single_quantized = test_labels_my_model_quantized\n",
    "\n",
    "my_model_accuracy_quantized = accuracy_score(test_labels_my_model_single_quantized, my_model_pred_classes)\n",
    "my_model_precision_quantized = precision_score(test_labels_my_model_single_quantized, my_model_pred_classes, average='weighted')\n",
    "my_model_recall_quantized = recall_score(test_labels_my_model_single_quantized, my_model_pred_classes, average='weighted')\n",
    "my_model_auc_quantized = roc_auc_score(test_labels_my_model_single_quantized, my_model_predictions_quantized[:, :, 0].reshape(-1, my_model_predictions_quantized.shape[-1]), multi_class='ovr')\n",
    "\n",
    "print(f\"my_model_quantized - Accuracy: {my_model_accuracy_quantized}, Precision: {my_model_precision_quantized}, Recall: {my_model_recall_quantized}, AUC: {my_model_auc_quantized}\")"
   ]
  },
  {
   "cell_type": "markdown",
   "metadata": {},
   "source": [
    "# Compare Model Performance\n",
    "Compare the performance metrics of the quantized and unquantized models and discuss the results."
   ]
  },
  {
   "cell_type": "code",
   "execution_count": 59,
   "metadata": {},
   "outputs": [
    {
     "name": "stdout",
     "output_type": "stream",
     "text": [
      "Non-Quantized Model Performance:\n",
      "Accuracy: 0.6041666666666666\n",
      "Precision: 0.3650173611111111\n",
      "Recall: 0.6041666666666666\n",
      "AUC: 0.9351179673321234\n",
      "\n",
      "Quantized Model Performance:\n",
      "Accuracy: 0.6041666666666666\n",
      "Precision: 0.3650173611111111\n",
      "Recall: 0.6041666666666666\n",
      "AUC: 0.9351179673321234\n"
     ]
    },
    {
     "data": {
      "image/png": "[encoded data removed]",
      "text/plain": [
       "<Figure size 640x480 with 1 Axes>"
      ]
     },
     "metadata": {},
     "output_type": "display_data"
    }
   ],
   "source": [
    "# Print performance metrics for non-quantized model\n",
    "print(\"Non-Quantized Model Performance:\")\n",
    "print(f\"Accuracy: {my_model_accuracy}\")\n",
    "print(f\"Precision: {my_model_precision}\")\n",
    "print(f\"Recall: {my_model_recall}\")\n",
    "print(f\"AUC: {my_model_auc}\")\n",
    "\n",
    "# Print performance metrics for quantized model\n",
    "print(\"\\nQuantized Model Performance:\")\n",
    "print(f\"Accuracy: {my_model_accuracy_quantized}\")\n",
    "print(f\"Precision: {my_model_precision_quantized}\")\n",
    "print(f\"Recall: {my_model_recall_quantized}\")\n",
    "print(f\"AUC: {my_model_auc_quantized}\")\n",
    "# Plot performance metrics for non-quantized model\n",
    "metrics = ['Accuracy', 'Precision', 'Recall', 'AUC']\n",
    "values_non_quantized = [my_model_accuracy, my_model_precision, my_model_recall, my_model_auc]\n",
    "values_quantized = [my_model_accuracy_quantized, my_model_precision_quantized, my_model_recall_quantized, my_model_auc_quantized]\n",
    "\n",
    "x = np.arange(len(metrics))  # the label locations\n",
    "width = 0.35  # the width of the bars\n",
    "\n",
    "fig, ax = plt.subplots()\n",
    "rects1 = ax.bar(x - width/2, values_non_quantized, width, label='Non-Quantized')\n",
    "rects2 = ax.bar(x + width/2, values_quantized, width, label='Quantized')\n",
    "\n",
    "# Add some text for labels, title and custom x-axis tick labels, etc.\n",
    "ax.set_xlabel('Metrics')\n",
    "ax.set_ylabel('Scores')\n",
    "ax.set_title('Performance Metrics Comparison')\n",
    "ax.set_xticks(x)\n",
    "ax.set_xticklabels(metrics)\n",
    "ax.legend()\n",
    "\n",
    "fig.tight_layout()\n",
    "\n",
    "plt.show()"
   ]
  }
 ],
 "metadata": {
  "kernelspec": {
   "display_name": "Python 3",
   "language": "python",
   "name": "python3"
  },
  "language_info": {
   "codemirror_mode": {
    "name": "ipython",
    "version": 3
   },
   "file_extension": ".py",
   "mimetype": "text/x-python",
   "name": "python",
   "nbconvert_exporter": "python",
   "pygments_lexer": "ipython3",
   "version": "3.11.5"
  }
 },
 "nbformat": 4,
 "nbformat_minor": 2
}
